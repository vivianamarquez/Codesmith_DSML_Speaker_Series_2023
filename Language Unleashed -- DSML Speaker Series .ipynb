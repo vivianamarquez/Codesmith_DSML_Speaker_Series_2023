{
 "cells": [
  {
   "cell_type": "markdown",
   "id": "da698c96",
   "metadata": {
    "slideshow": {
     "slide_type": "slide"
    }
   },
   "source": [
    "\n",
    "# Language Unleashed: An Overview of NLP\n",
    "\n",
    "Viviana Márquez,  M.Sc.<br>\n",
    "January 11, 2023\n",
    "\n",
    "<br><br>\n",
    "\n",
    "<img src='img/codesmith.png' style='width:300px; float: left; margin: 0px 30px 15px 0px'>\n",
    "\n",
    "<img src='img/DSML.png' style='width:650px; float: right; margin: 0px 30px 15px 0px'>"
   ]
  },
  {
   "cell_type": "markdown",
   "id": "d02d75c9",
   "metadata": {
    "slideshow": {
     "slide_type": "slide"
    }
   },
   "source": [
    "### A little bit about myself\n",
    "<br>\n",
    "<img src='img/VivianaM_Manhattan.jpg' style='height:550px; float: left; margin: 0px 30px 15px 0px'>\n",
    "\n",
    "👋 ¡Hola! I'm Viviana Márquez\n",
    "<br><small>https://www.linkedin.com/in/vivianamarquez/</small>\n",
    "\n",
    "🎓 MSc. Data Science - *University of San Francisco* (CA, USA)<br>\n",
    "🎓 BSc. Mathematics - *Konrad Lorenz University* (Bogotá, Colombia)<br>\n",
    "🎓 A.A. Journalism & Media - *CST* (Bogotá, Colombia)<br>\n",
    "\n",
    "**Currently**: <br>\n",
    "Software Engineer II, Machine Learning @ Dataminr<br>\n",
    "<small>📍 Manhattan, New York</small><br>\n",
    "<small>*Before*: HBO, Royal Caribbean Cruises, Zimmerman Advertising, TruSTAR Technology.</small><br>"
   ]
  },
  {
   "cell_type": "markdown",
   "id": "21009e13",
   "metadata": {
    "slideshow": {
     "slide_type": "slide"
    }
   },
   "source": [
    "# 🤔 What does NLP stand for? \n",
    "\n",
    "# 🤔 Have you used NLP today? \n",
    "\n",
    "https://forms.gle/XT2X3p75js95bU7R9"
   ]
  },
  {
   "cell_type": "markdown",
   "id": "44265ca3",
   "metadata": {
    "slideshow": {
     "slide_type": "slide"
    }
   },
   "source": [
    "# Natural Language Processing (NLP)\n",
    "\n",
    "<br>\n",
    "<center><img src=\"img/clase01/nlp.png\" style='height:400px;'>\n",
    "    <small>Image credit: CleverTap</small></center>\n",
    "\n",
    "- It is the area of artificial intelligence that deals with human languages and derives valuable information from them\n",
    "\n",
    "- There are dozens of methods and strategies to solve a given problem"
   ]
  },
  {
   "cell_type": "markdown",
   "id": "4b929a4d",
   "metadata": {
    "slideshow": {
     "slide_type": "slide"
    }
   },
   "source": [
    "# 🤔 Why learn NLP?"
   ]
  },
  {
   "cell_type": "markdown",
   "id": "65da4b23",
   "metadata": {
    "slideshow": {
     "slide_type": "slide"
    }
   },
   "source": [
    "### Text and Big Data\n",
    "\n",
    "<center><br>\n",
    "<img src='img/clase01/unstructured.png' style='height:350px;'>\n",
    "</center>\n",
    "\n",
    "• There are more than 7,100 spoken languages in the world\n",
    "\n",
    "• From 80% to 90% of data generated and collected by organizations is unstructured → Most of it is in the form of text\n",
    "\n",
    "• Millions of data are being generated right now: WhatsApp, Twitter, YouTube, Reddit, etc."
   ]
  },
  {
   "cell_type": "markdown",
   "id": "295a8dd5",
   "metadata": {
    "slideshow": {
     "slide_type": "slide"
    }
   },
   "source": [
    "##### NLP in the real world \n",
    "# Language modeling \n",
    "\n",
    "<center><br>\n",
    "<img src='img/clase01/google.png' style='height:400px;'>\n",
    "</center>\n",
    "\n",
    "• Predict a sentence based on the history of the previous words"
   ]
  },
  {
   "cell_type": "markdown",
   "id": "aa652129",
   "metadata": {
    "slideshow": {
     "slide_type": "slide"
    }
   },
   "source": [
    "##### NLP in the real world\n",
    "# Text classification \n",
    "\n",
    "<center><br>\n",
    "<img src='img/clase01/spam.jpg' style='height:350px;'>\n",
    "</center>\n",
    "\n",
    "- Classify text in different categories based on its content\n",
    "\n",
    "- Most famous example: Spam or not"
   ]
  },
  {
   "cell_type": "markdown",
   "id": "bcab9c56",
   "metadata": {
    "slideshow": {
     "slide_type": "slide"
    }
   },
   "source": [
    "##### NLP in the real world\n",
    "# Information extraction\n",
    "\n",
    "<center><br>\n",
    "<img src='img/clase01/whatsapp2.jpg' style='height:350px;'>\n",
    "</center>\n",
    "\n",
    "- As the name implies, this refers to extracting relevant information from the text\n",
    "\n",
    "- Examples: Calendar events and entities mentioned"
   ]
  },
  {
   "cell_type": "markdown",
   "id": "f4055517",
   "metadata": {
    "slideshow": {
     "slide_type": "slide"
    }
   },
   "source": [
    "##### NLP in the real world\n",
    "# Information retrieval \n",
    "\n",
    "<center><br>\n",
    "<img src='img/clase01/google_ret.png' style='height:350px;'>\n",
    "</center>\n",
    "\n",
    "- Find relevant documents in a large dataset based on a user's search\n",
    "\n",
    "- Related to text summarization"
   ]
  },
  {
   "cell_type": "markdown",
   "id": "36fdae84",
   "metadata": {
    "slideshow": {
     "slide_type": "slide"
    }
   },
   "source": [
    "##### NLP in the real world\n",
    "# Chatbots\n",
    "\n",
    "<center><br>\n",
    "<img src='img/clase01/chatbot.png' style='height:400px;'>\n",
    "</center>\n",
    "\n",
    "• Systems that answer questions automatically"
   ]
  },
  {
   "cell_type": "markdown",
   "id": "7188fefc",
   "metadata": {
    "slideshow": {
     "slide_type": "slide"
    }
   },
   "source": [
    "##### NLP in the real world\n",
    "# Translation \n",
    "\n",
    "<center><br>\n",
    "<img src='img/clase01/deepl.png' style='height:400px;'>\n",
    "</center>"
   ]
  },
  {
   "cell_type": "markdown",
   "id": "7d2fdecd",
   "metadata": {
    "slideshow": {
     "slide_type": "slide"
    }
   },
   "source": [
    "##### NLP in the real world\n",
    "# Social media monitoring\n",
    "\n",
    "<center><br>\n",
    "<img src='img/clase01/adele.png' style='height:300px;'>\n",
    "</center>\n",
    "\n",
    "- Companies want to understand their customers (targeted marketing campaigns)\n",
    "\n",
    "- They want to be able to take advantage of explicit and implicit feedback from their customers\n",
    "\n",
    "- Example: [Here](https://www.youtube.com/watch?v=sY9cjVK0mGU&ab_channel=MADSTARS%28%EB%B6%80%EC%82%B0%EA%B5%AD%EC%A0%9C%EA%B4%91%EA%B3%A0%EC%A0%9C%29)"
   ]
  },
  {
   "cell_type": "markdown",
   "id": "a79149cd",
   "metadata": {
    "slideshow": {
     "slide_type": "slide"
    }
   },
   "source": [
    "##### NLP in the real world\n"
   ]
  },
  {
   "cell_type": "markdown",
   "id": "a319f487",
   "metadata": {
    "slideshow": {
     "slide_type": "fragment"
    }
   },
   "source": [
    "### Unique problems arise every day and NLP allows us to better understand our world\n"
   ]
  },
  {
   "cell_type": "markdown",
   "id": "e48dcdcd",
   "metadata": {
    "slideshow": {
     "slide_type": "fragment"
    }
   },
   "source": [
    "<center><br>\n",
    "<img src='img/clase01/ig.png' style='height:400px;'>\n",
    "</center>\n",
    "\n",
    "- Example: Emoji analisis by Instagram [(More info here)](https://instagram-engineering.com/emojineering-part-1-machine-learning-for-emoji-trendsmachine-learning-for-emoji-trends-7f5f9cb979ad)"
   ]
  },
  {
   "cell_type": "markdown",
   "id": "ef22fb68",
   "metadata": {
    "slideshow": {
     "slide_type": "slide"
    }
   },
   "source": [
    "# 😫 🤯 Why is NLP so hard?\n"
   ]
  },
  {
   "cell_type": "markdown",
   "id": "0be0ccbf",
   "metadata": {
    "slideshow": {
     "slide_type": "fragment"
    }
   },
   "source": [
    "### I saw the man on the hill with a telescope"
   ]
  },
  {
   "cell_type": "markdown",
   "id": "ce4b960d",
   "metadata": {
    "slideshow": {
     "slide_type": "fragment"
    }
   },
   "source": [
    "<img src='img/clase01/colina.jpeg' style='height:300px; float: left; margin: 30px 30px 30px 30px'> \n",
    "1. I saw the man. The man was on the hill. I was using a telescope.<br>\n",
    "2. I saw the man. I was on the hill. I was using a telescope.<br>\n",
    "3. I saw the man. The man was on the hill. The hill had a telescope.<br>\n",
    "4. I saw the man. I was on the hill. The hill had a telescope.<br>\n",
    "5. I saw the man. The man was on the hill. I saw him using a telescope.\n",
    "\n",
    "<br><br>\n",
    "<small>Image credit: All Things Linguistic</small>"
   ]
  },
  {
   "cell_type": "markdown",
   "id": "15c27fe9",
   "metadata": {
    "slideshow": {
     "slide_type": "slide"
    }
   },
   "source": [
    "# 😫 🤯 Why is NLP so hard?\n"
   ]
  },
  {
   "cell_type": "markdown",
   "id": "2e5127d0",
   "metadata": {
    "slideshow": {
     "slide_type": "fragment"
    }
   },
   "source": [
    "- The city council denied the demonstrators the permit because **they** advocated violence. \n",
    "- The city council denied the demonstrators the permit because **they** feared violence. "
   ]
  },
  {
   "cell_type": "markdown",
   "id": "0dcee53f",
   "metadata": {
    "slideshow": {
     "slide_type": "slide"
    }
   },
   "source": [
    "# 😫 🤯 Why is NLP so hard?\n"
   ]
  },
  {
   "cell_type": "markdown",
   "id": "8b270c07",
   "metadata": {
    "slideshow": {
     "slide_type": "slide"
    }
   },
   "source": [
    "<center><img src='img/clase01/chicken.jpg'>\n",
    "<center>    \n",
    "    <big>Is the chicken ready to eat?</big>\n",
    "</center>"
   ]
  },
  {
   "cell_type": "markdown",
   "id": "b420b02e",
   "metadata": {
    "slideshow": {
     "slide_type": "fragment"
    }
   },
   "source": [
    "### Ambiguity"
   ]
  },
  {
   "cell_type": "markdown",
   "id": "3898e322",
   "metadata": {
    "slideshow": {
     "slide_type": "slide"
    }
   },
   "source": [
    "<center><img src='img/clase01/perro.jpg' style='height:350px;'>\n",
    "<center>    \n",
    "    <big>\"The dog bit the man\" vs \"The man bit the dog\"</big>\n",
    "</center>"
   ]
  },
  {
   "cell_type": "markdown",
   "id": "158b456b",
   "metadata": {
    "slideshow": {
     "slide_type": "fragment"
    }
   },
   "source": [
    "### Common knowledge"
   ]
  },
  {
   "cell_type": "markdown",
   "id": "67738d27",
   "metadata": {
    "slideshow": {
     "slide_type": "slide"
    }
   },
   "source": [
    "<center><img src='img/clase01/homesick.png' style='height:350px;'>\n",
    "<center>    \n",
    "    <big>How do you say \"homesick\" in Spanish?</big>\n",
    "</center>"
   ]
  },
  {
   "cell_type": "markdown",
   "id": "380e4183",
   "metadata": {
    "slideshow": {
     "slide_type": "fragment"
    }
   },
   "source": [
    "### Language diversity"
   ]
  },
  {
   "cell_type": "markdown",
   "id": "db59f95e",
   "metadata": {
    "slideshow": {
     "slide_type": "slide"
    }
   },
   "source": [
    "<center><img src='img/clase01/homer.gif' style='height:350px;'>"
   ]
  },
  {
   "cell_type": "markdown",
   "id": "d3ea59fe",
   "metadata": {
    "slideshow": {
     "slide_type": "fragment"
    }
   },
   "source": [
    "### Sarcasm"
   ]
  },
  {
   "cell_type": "markdown",
   "id": "a641d423",
   "metadata": {
    "slideshow": {
     "slide_type": "slide"
    }
   },
   "source": [
    "# 😫 🤯 So now that we have grasped why NLP is hard...\n"
   ]
  },
  {
   "cell_type": "markdown",
   "id": "a97dd4e2",
   "metadata": {
    "slideshow": {
     "slide_type": "fragment"
    }
   },
   "source": [
    "### How do we talk to Siri? Does it speak English?\n",
    "\n",
    "<center><br>\n",
    "<img src='img/clase01/siri.jpg' style='height:350px;'>"
   ]
  },
  {
   "cell_type": "markdown",
   "id": "dfc883d2",
   "metadata": {
    "slideshow": {
     "slide_type": "slide"
    }
   },
   "source": [
    "### Representation of data in numerical form\n",
    "\n",
    "**Example: Images**\n",
    "\n",
    "<center><img src='img/clase08/komp2.jpeg'>\n",
    "<small>Image credit: VideoNet</small></center>\n",
    "\n",
    "- An image is represented on a computer in the form of a matrix where each $m[i,j]$ represents pixel $i$,$j$ of the image\n",
    "\n",
    "- Similarly, a video is a collection of frames, where each frame is an image. Therefore, any video can be represented as a collection of matrices\n",
    "\n",
    "- (Un)fortunately, representing text numerically is not so simple"
   ]
  },
  {
   "cell_type": "markdown",
   "id": "563d0c50",
   "metadata": {
    "slideshow": {
     "slide_type": "slide"
    }
   },
   "source": [
    "## 🤔 The issue at hand...\n",
    "\n",
    "<br>\n",
    "<center><img src='img/clase01/gigo.png' style='height:350px;'>\n",
    "<small>Image credit: R-Bloggers</small></center>"
   ]
  },
  {
   "cell_type": "markdown",
   "id": "5dda0067",
   "metadata": {
    "slideshow": {
     "slide_type": "fragment"
    }
   },
   "source": [
    " - Let's take as an example the word **bow**. Can we just give it a number to represent it? "
   ]
  },
  {
   "cell_type": "markdown",
   "id": "8399fb46",
   "metadata": {
    "slideshow": {
     "slide_type": "fragment"
    }
   },
   "source": [
    "- 🙅‍♀ Then... how do we represent the meaning of a word? "
   ]
  },
  {
   "cell_type": "markdown",
   "id": "8c7b262e",
   "metadata": {
    "slideshow": {
     "slide_type": "slide"
    }
   },
   "source": [
    "## How do we, humans, know what a word means?\n",
    "\n",
    "<br>\n",
    "<center><img src='img/clase08/reina.jpg' style='height:500px; float: center; margin: 0px 15px 15px 0px'></center>"
   ]
  },
  {
   "cell_type": "markdown",
   "id": "fdea9c08",
   "metadata": {
    "slideshow": {
     "slide_type": "slide"
    }
   },
   "source": [
    "## We learn through experience\n",
    "\n",
    "<br>\n",
    "<center><img src='img/clase08/reyes2.png' style='height:600px; float: center; margin: 0px 15px 15px 0px'></center>"
   ]
  },
  {
   "cell_type": "markdown",
   "id": "5ce6fe13",
   "metadata": {
    "slideshow": {
     "slide_type": "slide"
    }
   },
   "source": [
    "## Machines can also learn through experience\n",
    "\n",
    "<br>\n",
    "\n",
    "<div align='center'>\n",
    "    <img src='img/clase08/maquina1.png' style='height:500px; float: left; margin: 0px 15px 15px 0px'>\n",
    "    <img src='img/clase08/maquina2.png' style='height:500px; float: left; margin: 0px 15px 15px 0px'>\n",
    "</div>"
   ]
  },
  {
   "cell_type": "markdown",
   "id": "2a9c40e8",
   "metadata": {
    "slideshow": {
     "slide_type": "slide"
    }
   },
   "source": [
    "# 🤔 🤔 🤔\n",
    "# What is meant by the meaning of a word?"
   ]
  },
  {
   "cell_type": "markdown",
   "id": "8fd76887",
   "metadata": {
    "slideshow": {
     "slide_type": "slide"
    }
   },
   "source": [
    "# 🤔 🤔 🤔\n",
    "# What is tichiniky? \n",
    "(Don't look it up on Google)\n"
   ]
  },
  {
   "cell_type": "markdown",
   "id": "b7699824",
   "metadata": {
    "slideshow": {
     "slide_type": "slide"
    }
   },
   "source": [
    "\n",
    "\n",
    "- Joseph offered a glass of <font color='red'>tichiniky</font> to his girlfriend."
   ]
  },
  {
   "cell_type": "markdown",
   "id": "fe4fe31a",
   "metadata": {
    "slideshow": {
     "slide_type": "fragment"
    }
   },
   "source": [
    "- <font color='red'>Tichiniky</font> and steak make a great pairing for a nice meal."
   ]
  },
  {
   "cell_type": "markdown",
   "id": "3ffcee8a",
   "metadata": {
    "slideshow": {
     "slide_type": "fragment"
    }
   },
   "source": [
    "- Charles stumbled, his face flushed from drinking too much <font color='red'>tichiniky</font>."
   ]
  },
  {
   "cell_type": "markdown",
   "id": "c363dde8",
   "metadata": {
    "slideshow": {
     "slide_type": "fragment"
    }
   },
   "source": [
    "- Last night I had bread, cheese, and this excellent <font color='red'>tichiniky</font> for dinner."
   ]
  },
  {
   "cell_type": "markdown",
   "id": "cf75b8c8",
   "metadata": {
    "slideshow": {
     "slide_type": "slide"
    }
   },
   "source": [
    "# 🤔 🤔 🤔\n",
    "I ask you again... \n",
    "# What is tichiniky? \n"
   ]
  },
  {
   "cell_type": "markdown",
   "id": "2ab14d26",
   "metadata": {
    "slideshow": {
     "slide_type": "fragment"
    }
   },
   "source": [
    "- An alcoholic drink\n",
    "<img src='img/clase08/amor_amistad.gif'>"
   ]
  },
  {
   "cell_type": "markdown",
   "id": "43f4326b",
   "metadata": {
    "slideshow": {
     "slide_type": "slide"
    }
   },
   "source": [
    "## Distributional semantics \n",
    "\n",
    "- A bottle of <font color='red'>tichiniky</font> is on the table.\n",
    "- Not everyone likes <font color='red'>tichiniky</font>.\n",
    "- Don't drink <font color='red'>tichiniky</font> and drive.\n",
    "- We make <font color='red'>tichiniky</font> with grapes. "
   ]
  },
  {
   "cell_type": "markdown",
   "id": "7a80495c",
   "metadata": {
    "slideshow": {
     "slide_type": "slide"
    }
   },
   "source": [
    "## Distributional semantics \n",
    "\n",
    "- A bottle of <font color='red'>________</font> is on the table.\n",
    "- Not everyone likes <font color='red'>________</font>.\n",
    "- Don't drink <font color='red'>________</font> and drive.\n",
    "- We make <font color='red'>________</font> with grapes. \n",
    "\n",
    "### 🤔 What other would go well in those contexts?"
   ]
  },
  {
   "cell_type": "markdown",
   "id": "f3bd05d9",
   "metadata": {
    "slideshow": {
     "slide_type": "slide"
    }
   },
   "source": [
    "## Distributional semantics \n",
    "\n",
    "- A bottle of <font color='red'>________</font> is on the table.\n",
    "- Not everyone likes <font color='red'>________</font>.\n",
    "- Don't drink <font color='red'>________</font> and drive.\n",
    "- We make <font color='red'>________</font> with grapes. \n",
    "\n",
    "|                 | 1 | 2 | 3 | 4 | ... |\n",
    "|-----------------|---|---|---|---|-----|\n",
    "| tichiniky       |   |   |   |   |     |\n",
    "| strong          |   |   |   |   |     |\n",
    "| motor oil       |   |   |   |   |     |\n",
    "| tacos           |   |   |   |   |     |\n",
    "| wine            |   |   |   |   |     |"
   ]
  },
  {
   "cell_type": "markdown",
   "id": "163a0a68",
   "metadata": {
    "slideshow": {
     "slide_type": "fragment"
    }
   },
   "source": [
    "- ⚠️ Tichiniky & wine have the same **vector representation**"
   ]
  },
  {
   "cell_type": "markdown",
   "id": "7c351d23",
   "metadata": {
    "slideshow": {
     "slide_type": "slide"
    }
   },
   "source": [
    "# Common NLP terminology\n",
    "<center><img src='img/clase01/terms2.png' style='height:800px;'>"
   ]
  },
  {
   "cell_type": "markdown",
   "id": "b203c050",
   "metadata": {
    "slideshow": {
     "slide_type": "slide"
    }
   },
   "source": [
    "## Once you have a numerical vector representation\n",
    "\n",
    "<center><img src='img/clase08/espacio.jpg' style='height:500px; float: center; margin: 0px 15px 15px 0px'></center>\n",
    "<br>\n",
    "\n",
    "<center><big><b>You can do math!</b></big></center>\n",
    "\n",
    "<br>\n",
    "\n",
    "- meaning($man$) - meaning($king$) + meaning($queen$) = meaning($woman$)\n",
    "\n",
    "Neural networks can make machines understand analogies like humans [Mikolov et al., 2013]"
   ]
  },
  {
   "cell_type": "code",
   "execution_count": 38,
   "id": "da2ec720",
   "metadata": {
    "slideshow": {
     "slide_type": "slide"
    }
   },
   "outputs": [],
   "source": [
    "import ast\n",
    "import pandas as pd\n",
    "import gensim.downloader as api\n",
    "from gensim.models import Word2Vec\n",
    "from better_profanity import profanity"
   ]
  },
  {
   "cell_type": "code",
   "execution_count": null,
   "id": "1b3d61ae",
   "metadata": {
    "slideshow": {
     "slide_type": "fragment"
    }
   },
   "outputs": [],
   "source": [
    "def analogy(model, worda, wordb, wordc):\n",
    "    '''\n",
    "    wordA is to wordB as wordC is to ...\n",
    "    '''\n",
    "    result = model.most_similar(negative=[worda], \n",
    "                                positive=[wordb, wordc])\n",
    "    return result[0][0]"
   ]
  },
  {
   "cell_type": "code",
   "execution_count": null,
   "id": "76cd28c9",
   "metadata": {
    "slideshow": {
     "slide_type": "slide"
    }
   },
   "outputs": [],
   "source": [
    "google_wv = api.load('word2vec-google-news-300')"
   ]
  },
  {
   "cell_type": "code",
   "execution_count": null,
   "id": "1c464f0e",
   "metadata": {
    "slideshow": {
     "slide_type": "fragment"
    }
   },
   "outputs": [],
   "source": [
    "analogy(google_wv, 'king','man','queen')"
   ]
  },
  {
   "cell_type": "code",
   "execution_count": null,
   "id": "1b34b9d5",
   "metadata": {
    "slideshow": {
     "slide_type": "slide"
    }
   },
   "outputs": [],
   "source": [
    "google_wv.most_similar(\"game\")"
   ]
  },
  {
   "cell_type": "code",
   "execution_count": 42,
   "id": "68779fb6",
   "metadata": {
    "slideshow": {
     "slide_type": "slide"
    }
   },
   "outputs": [],
   "source": [
    "df = pd.read_csv(\"data/rap.csv\")\n",
    "df.pp = df.pp.apply(lambda row: [profanity.censor(w) for w in ast.literal_eval(row)])"
   ]
  },
  {
   "cell_type": "code",
   "execution_count": null,
   "id": "8481e5f5",
   "metadata": {
    "slideshow": {
     "slide_type": "fragment"
    }
   },
   "outputs": [],
   "source": [
    "df.sample(5)"
   ]
  },
  {
   "cell_type": "code",
   "execution_count": 44,
   "id": "73d53243",
   "metadata": {
    "slideshow": {
     "slide_type": "slide"
    }
   },
   "outputs": [],
   "source": [
    "rap_model = Word2Vec(df['pp'].values,\n",
    "                     sg=1, # 1 skip-gram, 0 CBOW\n",
    "                     seed=1, vector_size=256, min_count=50, window=12)"
   ]
  },
  {
   "cell_type": "code",
   "execution_count": null,
   "id": "dca8e4a8",
   "metadata": {
    "slideshow": {
     "slide_type": "fragment"
    }
   },
   "outputs": [],
   "source": [
    "rap_model.wv.most_similar(\"game\", topn=5)"
   ]
  },
  {
   "cell_type": "code",
   "execution_count": null,
   "id": "23c63dfc",
   "metadata": {
    "slideshow": {
     "slide_type": "fragment"
    }
   },
   "outputs": [],
   "source": [
    "google_wv.most_similar(\"game\", topn=5)"
   ]
  },
  {
   "cell_type": "markdown",
   "id": "3d837a0b",
   "metadata": {
    "slideshow": {
     "slide_type": "slide"
    }
   },
   "source": [
    "# Data science and ethics"
   ]
  },
  {
   "cell_type": "markdown",
   "id": "cc15c2a3",
   "metadata": {
    "slideshow": {
     "slide_type": "fragment"
    }
   },
   "source": [
    "<center><img src='img/libro1.jpg' style='height:600px; float: center; margin: 0px 15px 15px 0px'></center>"
   ]
  },
  {
   "cell_type": "markdown",
   "id": "6951dd0d",
   "metadata": {
    "slideshow": {
     "slide_type": "slide"
    }
   },
   "source": [
    "## The evolution of NLP\n",
    "\n",
    "<center><img src='img/clase11/evol.png' style='height:280px; float: center; margin: 0px 15px 15px 0px'></center>\n",
    "<center><small>Image credit: O'Reilly</small></center>\n",
    "\n",
    "- **Bag of Words / TFIDF**\n",
    "\n",
    "    - Simpler techniques to generate text embeddings\n",
    "<br>\n",
    "<br>\n",
    "- 2013: **Word2Vec**\n",
    "\n",
    "    - Technique that takes into account the semantic relationship between words\n",
    "    - One of the first models that use prediction techniques and neural networks\n",
    "   "
   ]
  },
  {
   "cell_type": "markdown",
   "id": "73d12053",
   "metadata": {
    "slideshow": {
     "slide_type": "slide"
    }
   },
   "source": [
    "## Evolution of NLP\n",
    "\n",
    "<br>\n",
    "<center><img src='img/clase11/evolnnn.png' style='height:250px; float: center; margin: 0px 15px 15px 0px'></center>\n",
    "<center><small>Image credit: O'Reilly</small></center>\n",
    "\n",
    "<br>\n",
    "<br>\n",
    "\n",
    "- 2018: **Transformers**\n",
    "\n",
    "    - Models that use attention to increase the speed of task-specific training"
   ]
  },
  {
   "cell_type": "markdown",
   "id": "65c537f5",
   "metadata": {
    "slideshow": {
     "slide_type": "slide"
    }
   },
   "source": [
    "# Literacy\n",
    "\n",
    "<br>\n",
    "<center><img src='img/math.jpeg' style='height:500px'></center>\n",
    "\n",
    "- ChatGPT\n",
    "- [Video](https://www.youtube.com/watch?v=cQ54GDm1eL0&ab_channel=BuzzFeedVideo) Barack Obama\n"
   ]
  },
  {
   "cell_type": "markdown",
   "id": "b90ccc83",
   "metadata": {
    "slideshow": {
     "slide_type": "slide"
    }
   },
   "source": [
    "# Thank you Codesmith for the invitation and to all of you for being here 😊🫶\n",
    "\n",
    "# 👋 Let's stay in touch!\n",
    "\n",
    "LinkedIn: https://www.linkedin.com/in/vivianamarquez/"
   ]
  }
 ],
 "metadata": {
  "celltoolbar": "Slideshow",
  "kernelspec": {
   "display_name": "Python 3",
   "language": "python",
   "name": "python3"
  },
  "language_info": {
   "codemirror_mode": {
    "name": "ipython",
    "version": 3
   },
   "file_extension": ".py",
   "mimetype": "text/x-python",
   "name": "python",
   "nbconvert_exporter": "python",
   "pygments_lexer": "ipython3",
   "version": "3.7.4"
  }
 },
 "nbformat": 4,
 "nbformat_minor": 5
}
